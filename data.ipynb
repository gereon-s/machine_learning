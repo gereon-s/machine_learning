{
 "cells": [
  {
   "cell_type": "code",
   "execution_count": 1,
   "metadata": {},
   "outputs": [],
   "source": [
    "import pandas as pd"
   ]
  },
  {
   "cell_type": "code",
   "execution_count": 2,
   "metadata": {},
   "outputs": [],
   "source": [
    "df = pd.read_csv('predictit.csv')"
   ]
  },
  {
   "cell_type": "code",
   "execution_count": 3,
   "metadata": {},
   "outputs": [
    {
     "data": {
      "text/html": [
       "<div>\n",
       "<style scoped>\n",
       "    .dataframe tbody tr th:only-of-type {\n",
       "        vertical-align: middle;\n",
       "    }\n",
       "\n",
       "    .dataframe tbody tr th {\n",
       "        vertical-align: top;\n",
       "    }\n",
       "\n",
       "    .dataframe thead th {\n",
       "        text-align: right;\n",
       "    }\n",
       "</style>\n",
       "<table border=\"1\" class=\"dataframe\">\n",
       "  <thead>\n",
       "    <tr style=\"text-align: right;\">\n",
       "      <th></th>\n",
       "      <th>ContractName</th>\n",
       "      <th>Date</th>\n",
       "      <th>OpenSharePrice</th>\n",
       "      <th>HighSharePrice</th>\n",
       "      <th>LowSharePrice</th>\n",
       "      <th>CloseSharePrice</th>\n",
       "      <th>TradeVolume</th>\n",
       "    </tr>\n",
       "  </thead>\n",
       "  <tbody>\n",
       "    <tr>\n",
       "      <th>0</th>\n",
       "      <td>DeSantis</td>\n",
       "      <td>7/25/2024 12:00:00 AM</td>\n",
       "      <td>$0.01</td>\n",
       "      <td>$0.01</td>\n",
       "      <td>$0.01</td>\n",
       "      <td>$0.01</td>\n",
       "      <td>33</td>\n",
       "    </tr>\n",
       "    <tr>\n",
       "      <th>1</th>\n",
       "      <td>Trump</td>\n",
       "      <td>7/25/2024 12:00:00 AM</td>\n",
       "      <td>$0.57</td>\n",
       "      <td>$0.58</td>\n",
       "      <td>$0.56</td>\n",
       "      <td>$0.56</td>\n",
       "      <td>45668</td>\n",
       "    </tr>\n",
       "    <tr>\n",
       "      <th>2</th>\n",
       "      <td>Biden</td>\n",
       "      <td>7/25/2024 12:00:00 AM</td>\n",
       "      <td>$0.01</td>\n",
       "      <td>$0.01</td>\n",
       "      <td>$0.01</td>\n",
       "      <td>$0.01</td>\n",
       "      <td>7886</td>\n",
       "    </tr>\n",
       "    <tr>\n",
       "      <th>3</th>\n",
       "      <td>Harris</td>\n",
       "      <td>7/25/2024 12:00:00 AM</td>\n",
       "      <td>$0.45</td>\n",
       "      <td>$0.46</td>\n",
       "      <td>$0.43</td>\n",
       "      <td>$0.46</td>\n",
       "      <td>64431</td>\n",
       "    </tr>\n",
       "    <tr>\n",
       "      <th>4</th>\n",
       "      <td>Buttigieg</td>\n",
       "      <td>7/25/2024 12:00:00 AM</td>\n",
       "      <td>$0.01</td>\n",
       "      <td>$0.01</td>\n",
       "      <td>$0.01</td>\n",
       "      <td>$0.01</td>\n",
       "      <td>785</td>\n",
       "    </tr>\n",
       "  </tbody>\n",
       "</table>\n",
       "</div>"
      ],
      "text/plain": [
       "  ContractName                   Date OpenSharePrice HighSharePrice  \\\n",
       "0     DeSantis  7/25/2024 12:00:00 AM          $0.01          $0.01   \n",
       "1        Trump  7/25/2024 12:00:00 AM          $0.57          $0.58   \n",
       "2        Biden  7/25/2024 12:00:00 AM          $0.01          $0.01   \n",
       "3       Harris  7/25/2024 12:00:00 AM          $0.45          $0.46   \n",
       "4    Buttigieg  7/25/2024 12:00:00 AM          $0.01          $0.01   \n",
       "\n",
       "  LowSharePrice CloseSharePrice  TradeVolume  \n",
       "0         $0.01           $0.01           33  \n",
       "1         $0.56           $0.56        45668  \n",
       "2         $0.01           $0.01         7886  \n",
       "3         $0.43           $0.46        64431  \n",
       "4         $0.01           $0.01          785  "
      ]
     },
     "execution_count": 3,
     "metadata": {},
     "output_type": "execute_result"
    }
   ],
   "source": [
    "df.head()"
   ]
  },
  {
   "cell_type": "code",
   "execution_count": 8,
   "metadata": {},
   "outputs": [
    {
     "name": "stderr",
     "output_type": "stream",
     "text": [
      "[*********************100%***********************]  1 of 1 completed"
     ]
    },
    {
     "name": "stdout",
     "output_type": "stream",
     "text": [
      "               Open     High      Low    Close  Adj Close  Volume\n",
      "Date                                                             \n",
      "2024-04-23  0.93861  0.93991  0.93371  0.93861    0.93861       0\n",
      "2024-04-24  0.93420  0.93640  0.93320  0.93420    0.93420       0\n",
      "2024-04-25  0.93459  0.93644  0.93180  0.93459    0.93459       0\n",
      "2024-04-26  0.93200  0.93672  0.92998  0.93200    0.93200       0\n",
      "2024-04-29  0.93398  0.93537  0.93150  0.93398    0.93398       0\n"
     ]
    },
    {
     "name": "stderr",
     "output_type": "stream",
     "text": [
      "\n"
     ]
    }
   ],
   "source": [
    "import yfinance as yf\n",
    "import pandas as pd\n",
    "\n",
    "# Define the ticker symbol for EUR/USD exchange rate\n",
    "ticker = \"USDEUR=X\"\n",
    "\n",
    "# Fetch data for the last 90 days\n",
    "data = yf.download(ticker, period=\"6mo\", interval=\"1d\")\n",
    "\n",
    "# Show the data\n",
    "print(data.head())\n",
    "\n",
    "data.to_csv('usdeur.csv')\n"
   ]
  },
  {
   "cell_type": "code",
   "execution_count": 11,
   "metadata": {},
   "outputs": [
    {
     "name": "stderr",
     "output_type": "stream",
     "text": [
      "/var/folders/dj/74h5n59n1_l7mhcqj180447c0000gn/T/ipykernel_1549/1890547870.py:4: UserWarning: Could not infer format, so each element will be parsed individually, falling back to `dateutil`. To ensure parsing is consistent and as-expected, please specify a format.\n",
      "  predictit_df['Date'] = pd.to_datetime(predictit_df['Date'])\n"
     ]
    }
   ],
   "source": [
    "predictit_df = pd.read_csv('predictit.csv')\n",
    "usdeur_df = pd.read_csv('usdeur.csv')\n",
    "\n",
    "predictit_df['Date'] = pd.to_datetime(predictit_df['Date'])\n",
    "usdeur_df['Date'] = pd.to_datetime(usdeur_df['Date'])\n",
    "\n",
    "# Filter only Trump data\n",
    "trump_predictit_df = predictit_df[predictit_df['ContractName'] == 'Trump'].copy()\n",
    "\n",
    "# Remove the dollar sign and convert prices to numeric\n",
    "for col in ['OpenSharePrice', 'HighSharePrice', 'LowSharePrice', 'CloseSharePrice']:\n",
    "    trump_predictit_df[col] = trump_predictit_df[col].replace({'\\$': ''}, regex=True).astype(float)\n",
    "\n",
    "# Now select relevant columns for merging (Date, CloseSharePrice)\n",
    "trump_predictit_df = trump_predictit_df[['Date', 'CloseSharePrice']]\n",
    "\n",
    "# Merge the datasets on the Date column\n",
    "merged_df = pd.merge(usdeur_df, trump_predictit_df, on='Date', how='inner')\n",
    "\n",
    "# Renaming the columns as per your request\n",
    "merged_df = merged_df[['Date', 'Adj Close', 'CloseSharePrice']].rename(columns={'Adj Close': 'USDEUR', 'CloseSharePrice': 'Trump'})\n",
    "\n",
    "merged_df.head()\n",
    "\n",
    "merged_df.to_csv('merged.csv')"
   ]
  }
 ],
 "metadata": {
  "kernelspec": {
   "display_name": "Python 3",
   "language": "python",
   "name": "python3"
  },
  "language_info": {
   "codemirror_mode": {
    "name": "ipython",
    "version": 3
   },
   "file_extension": ".py",
   "mimetype": "text/x-python",
   "name": "python",
   "nbconvert_exporter": "python",
   "pygments_lexer": "ipython3",
   "version": "3.11.4"
  }
 },
 "nbformat": 4,
 "nbformat_minor": 2
}
